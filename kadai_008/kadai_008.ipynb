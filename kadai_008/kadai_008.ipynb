{
  "nbformat": 4,
  "nbformat_minor": 0,
  "metadata": {
    "colab": {
      "provenance": []
    },
    "kernelspec": {
      "name": "python3",
      "display_name": "Python 3"
    },
    "language_info": {
      "name": "python"
    }
  },
  "cells": [
    {
      "cell_type": "code",
      "execution_count": 16,
      "metadata": {
        "colab": {
          "base_uri": "https://localhost:8080/"
        },
        "id": "wZDX62I2jNoT",
        "outputId": "f92fafbb-eaa4-41eb-8725-584b6972a39f"
      },
      "outputs": [
        {
          "output_type": "stream",
          "name": "stdout",
          "text": [
            "Fizz\n"
          ]
        }
      ],
      "source": [
        "var = 6\n",
        "\n",
        "if var % 3 == 0 and var % 5 == 0 :\n",
        "    print(\"FizzBuzz\")\n",
        "elif var % 3 == 0 :\n",
        "    print(\"Fizz\")\n",
        "elif var % 5 == 0 :\n",
        "    print(\"Buzz\")\n",
        "else :\n",
        "    print(var)"
      ]
    },
    {
      "cell_type": "code",
      "source": [],
      "metadata": {
        "id": "6h2dd7EdkH2i"
      },
      "execution_count": null,
      "outputs": []
    }
  ]
}