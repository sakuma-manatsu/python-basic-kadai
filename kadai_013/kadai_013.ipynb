{
  "nbformat": 4,
  "nbformat_minor": 0,
  "metadata": {
    "colab": {
      "provenance": []
    },
    "kernelspec": {
      "name": "python3",
      "display_name": "Python 3"
    },
    "language_info": {
      "name": "python"
    }
  },
  "cells": [
    {
      "cell_type": "code",
      "execution_count": 7,
      "metadata": {
        "colab": {
          "base_uri": "https://localhost:8080/"
        },
        "id": "TblosCxIRmaf",
        "outputId": "0aa34c82-e8a4-4e89-b332-ec98bd5fad0c"
      },
      "outputs": [
        {
          "output_type": "stream",
          "name": "stdout",
          "text": [
            "110.0円\n"
          ]
        }
      ],
      "source": [
        "def total_price(price, tax):\n",
        "    total = price + price * tax / 100\n",
        "    return total\n",
        "\n",
        "print(f\"{total_price(100, 10)}円\")"
      ]
    },
    {
      "cell_type": "code",
      "source": [],
      "metadata": {
        "id": "9RuQrydoyWh6"
      },
      "execution_count": null,
      "outputs": []
    }
  ]
}