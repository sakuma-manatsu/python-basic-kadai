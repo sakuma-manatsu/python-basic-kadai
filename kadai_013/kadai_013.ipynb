{
  "nbformat": 4,
  "nbformat_minor": 0,
  "metadata": {
    "colab": {
      "provenance": []
    },
    "kernelspec": {
      "name": "python3",
      "display_name": "Python 3"
    },
    "language_info": {
      "name": "python"
    }
  },
  "cells": [
    {
      "cell_type": "code",
      "execution_count": 11,
      "metadata": {
        "colab": {
          "base_uri": "https://localhost:8080/"
        },
        "id": "TblosCxIRmaf",
        "outputId": "f1472cdd-9377-4b1b-bad2-22247d8f133b"
      },
      "outputs": [
        {
          "output_type": "stream",
          "name": "stdout",
          "text": [
            "110.0円\n"
          ]
        }
      ],
      "source": [
        "def total_price(price, tax):\n",
        "    total = price + price * tax / 100\n",
        "    print(f\"{total}円\")\n",
        "\n",
        "total_price(100, 10)"
      ]
    },
    {
      "cell_type": "code",
      "source": [],
      "metadata": {
        "id": "9RuQrydoyWh6"
      },
      "execution_count": null,
      "outputs": []
    }
  ]
}