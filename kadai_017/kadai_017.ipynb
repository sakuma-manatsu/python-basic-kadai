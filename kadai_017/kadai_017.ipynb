{
  "nbformat": 4,
  "nbformat_minor": 0,
  "metadata": {
    "colab": {
      "provenance": []
    },
    "kernelspec": {
      "name": "python3",
      "display_name": "Python 3"
    },
    "language_info": {
      "name": "python"
    }
  },
  "cells": [
    {
      "cell_type": "code",
      "execution_count": 10,
      "metadata": {
        "colab": {
          "base_uri": "https://localhost:8080/"
        },
        "id": "yqQRSsYynwfV",
        "outputId": "1312bcdc-7a78-4467-f0d7-22b15aea589b"
      },
      "outputs": [
        {
          "output_type": "stream",
          "name": "stdout",
          "text": [
            "後藤ひとりは大人ではありません\n",
            "後藤ふたりは大人ではありません\n",
            "後藤直樹は大人です\n",
            "後藤美智代は大人です\n"
          ]
        }
      ],
      "source": [
        "class Human:\n",
        "  def __init__(self, name, age):\n",
        "      self.name = name\n",
        "      self.age = age\n",
        "\n",
        "  def check_adult(self, age):\n",
        "      if age >= 20:\n",
        "          print(f\"{self.name}は大人です\")\n",
        "      else:\n",
        "          print(f\"{self.name}は大人ではありません\")\n",
        "\n",
        "human1 = Human(\"後藤ひとり\", 15)\n",
        "human2 = Human(\"後藤ふたり\", 4)\n",
        "human3 = Human(\"後藤直樹\", 40)\n",
        "human4 = Human(\"後藤美智代\", 39)\n",
        "\n",
        "humans = [human1, human2, human3, human4]\n",
        "\n",
        "for human in humans:\n",
        "  human.check_adult(human.age)"
      ]
    },
    {
      "cell_type": "code",
      "source": [],
      "metadata": {
        "id": "_BCQBK-eoTVQ"
      },
      "execution_count": null,
      "outputs": []
    }
  ]
}