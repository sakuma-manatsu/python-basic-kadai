{
  "nbformat": 4,
  "nbformat_minor": 0,
  "metadata": {
    "colab": {
      "provenance": []
    },
    "kernelspec": {
      "name": "python3",
      "display_name": "Python 3"
    },
    "language_info": {
      "name": "python"
    }
  },
  "cells": [
    {
      "cell_type": "code",
      "execution_count": 1,
      "metadata": {
        "colab": {
          "base_uri": "https://localhost:8080/"
        },
        "id": "7fnj3W6OZsGc",
        "outputId": "4ad2ba95-be9f-47dd-d8bd-26bb0394afa5"
      },
      "outputs": [
        {
          "output_type": "stream",
          "name": "stdout",
          "text": [
            "75.0cm²\n"
          ]
        }
      ],
      "source": [
        "upper_border = 10\n",
        "lower_border = 20\n",
        "height = 5\n",
        "area = (upper_border + lower_border) * height / 2\n",
        "print(f\"{area}cm²\")"
      ]
    }
  ]
}